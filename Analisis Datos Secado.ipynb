{
 "cells": [
  {
   "cell_type": "code",
   "execution_count": 43,
   "metadata": {},
   "outputs": [],
   "source": [
    "import numpy as np\n",
    "import pandas as pd\n",
    "import matplotlib.pyplot as plt"
   ]
  },
  {
   "cell_type": "code",
   "execution_count": 44,
   "metadata": {},
   "outputs": [],
   "source": [
    "df = pd.read_excel('C:/Users/DavidVG/OneDrive/Documents/Toma datos secado.xlsx')"
   ]
  },
  {
   "cell_type": "code",
   "execution_count": 45,
   "metadata": {},
   "outputs": [
    {
     "data": {
      "text/html": [
       "<div>\n",
       "<style scoped>\n",
       "    .dataframe tbody tr th:only-of-type {\n",
       "        vertical-align: middle;\n",
       "    }\n",
       "\n",
       "    .dataframe tbody tr th {\n",
       "        vertical-align: top;\n",
       "    }\n",
       "\n",
       "    .dataframe thead th {\n",
       "        text-align: right;\n",
       "    }\n",
       "</style>\n",
       "<table border=\"1\" class=\"dataframe\">\n",
       "  <thead>\n",
       "    <tr style=\"text-align: right;\">\n",
       "      <th></th>\n",
       "      <th>Humedad del suelo (VWC)</th>\n",
       "      <th>Temperatura del suelo (°C)</th>\n",
       "      <th>Hora</th>\n",
       "      <th>Dia</th>\n",
       "      <th>Matera</th>\n",
       "    </tr>\n",
       "  </thead>\n",
       "  <tbody>\n",
       "    <tr>\n",
       "      <th>0</th>\n",
       "      <td>0.2300</td>\n",
       "      <td>25.1</td>\n",
       "      <td>16:00:00</td>\n",
       "      <td>2023-09-25</td>\n",
       "      <td>Geotextil</td>\n",
       "    </tr>\n",
       "    <tr>\n",
       "      <th>1</th>\n",
       "      <td>0.2300</td>\n",
       "      <td>28.4</td>\n",
       "      <td>16:00:00</td>\n",
       "      <td>2023-09-25</td>\n",
       "      <td>Plastica</td>\n",
       "    </tr>\n",
       "    <tr>\n",
       "      <th>2</th>\n",
       "      <td>0.2270</td>\n",
       "      <td>24.4</td>\n",
       "      <td>11:45:00</td>\n",
       "      <td>2023-09-26</td>\n",
       "      <td>Plastica</td>\n",
       "    </tr>\n",
       "    <tr>\n",
       "      <th>3</th>\n",
       "      <td>0.2244</td>\n",
       "      <td>23.0</td>\n",
       "      <td>11:45:00</td>\n",
       "      <td>2023-09-26</td>\n",
       "      <td>Geotextil</td>\n",
       "    </tr>\n",
       "    <tr>\n",
       "      <th>4</th>\n",
       "      <td>0.2110</td>\n",
       "      <td>24.3</td>\n",
       "      <td>16:05:00</td>\n",
       "      <td>2023-09-28</td>\n",
       "      <td>Geotextil</td>\n",
       "    </tr>\n",
       "  </tbody>\n",
       "</table>\n",
       "</div>"
      ],
      "text/plain": [
       "   Humedad del suelo (VWC)  Temperatura del suelo (°C)      Hora        Dia   \n",
       "0                   0.2300                        25.1  16:00:00 2023-09-25  \\\n",
       "1                   0.2300                        28.4  16:00:00 2023-09-25   \n",
       "2                   0.2270                        24.4  11:45:00 2023-09-26   \n",
       "3                   0.2244                        23.0  11:45:00 2023-09-26   \n",
       "4                   0.2110                        24.3  16:05:00 2023-09-28   \n",
       "\n",
       "      Matera  \n",
       "0  Geotextil  \n",
       "1   Plastica  \n",
       "2   Plastica  \n",
       "3  Geotextil  \n",
       "4  Geotextil  "
      ]
     },
     "execution_count": 45,
     "metadata": {},
     "output_type": "execute_result"
    }
   ],
   "source": [
    "df.head()"
   ]
  },
  {
   "cell_type": "markdown",
   "metadata": {},
   "source": [
    "### Humedad del suelo matera geotextil"
   ]
  },
  {
   "cell_type": "code",
   "execution_count": 46,
   "metadata": {},
   "outputs": [
    {
     "data": {
      "text/html": [
       "<div>\n",
       "<style scoped>\n",
       "    .dataframe tbody tr th:only-of-type {\n",
       "        vertical-align: middle;\n",
       "    }\n",
       "\n",
       "    .dataframe tbody tr th {\n",
       "        vertical-align: top;\n",
       "    }\n",
       "\n",
       "    .dataframe thead th {\n",
       "        text-align: right;\n",
       "    }\n",
       "</style>\n",
       "<table border=\"1\" class=\"dataframe\">\n",
       "  <thead>\n",
       "    <tr style=\"text-align: right;\">\n",
       "      <th></th>\n",
       "      <th>Humedad del suelo (VWC)</th>\n",
       "      <th>Temperatura del suelo (°C)</th>\n",
       "      <th>Hora</th>\n",
       "      <th>Dia</th>\n",
       "      <th>Matera</th>\n",
       "    </tr>\n",
       "  </thead>\n",
       "  <tbody>\n",
       "    <tr>\n",
       "      <th>0</th>\n",
       "      <td>0.2300</td>\n",
       "      <td>25.1</td>\n",
       "      <td>16:00:00</td>\n",
       "      <td>2023-09-25</td>\n",
       "      <td>Geotextil</td>\n",
       "    </tr>\n",
       "    <tr>\n",
       "      <th>1</th>\n",
       "      <td>0.2244</td>\n",
       "      <td>23.0</td>\n",
       "      <td>11:45:00</td>\n",
       "      <td>2023-09-26</td>\n",
       "      <td>Geotextil</td>\n",
       "    </tr>\n",
       "    <tr>\n",
       "      <th>2</th>\n",
       "      <td>0.2110</td>\n",
       "      <td>24.3</td>\n",
       "      <td>16:05:00</td>\n",
       "      <td>2023-09-28</td>\n",
       "      <td>Geotextil</td>\n",
       "    </tr>\n",
       "    <tr>\n",
       "      <th>3</th>\n",
       "      <td>0.2058</td>\n",
       "      <td>24.6</td>\n",
       "      <td>16:50:00</td>\n",
       "      <td>2023-09-29</td>\n",
       "      <td>Geotextil</td>\n",
       "    </tr>\n",
       "    <tr>\n",
       "      <th>4</th>\n",
       "      <td>0.2005</td>\n",
       "      <td>23.1</td>\n",
       "      <td>11:00:00</td>\n",
       "      <td>2023-09-30</td>\n",
       "      <td>Geotextil</td>\n",
       "    </tr>\n",
       "    <tr>\n",
       "      <th>5</th>\n",
       "      <td>0.1825</td>\n",
       "      <td>24.7</td>\n",
       "      <td>15:00:00</td>\n",
       "      <td>2023-10-03</td>\n",
       "      <td>Geotextil</td>\n",
       "    </tr>\n",
       "    <tr>\n",
       "      <th>6</th>\n",
       "      <td>0.1770</td>\n",
       "      <td>21.9</td>\n",
       "      <td>11:50:00</td>\n",
       "      <td>2023-10-05</td>\n",
       "      <td>Geotextil</td>\n",
       "    </tr>\n",
       "    <tr>\n",
       "      <th>7</th>\n",
       "      <td>0.1705</td>\n",
       "      <td>23.0</td>\n",
       "      <td>11:30:00</td>\n",
       "      <td>2023-10-07</td>\n",
       "      <td>Geotextil</td>\n",
       "    </tr>\n",
       "    <tr>\n",
       "      <th>8</th>\n",
       "      <td>0.1625</td>\n",
       "      <td>23.2</td>\n",
       "      <td>12:30:00</td>\n",
       "      <td>2023-10-10</td>\n",
       "      <td>Geotextil</td>\n",
       "    </tr>\n",
       "    <tr>\n",
       "      <th>9</th>\n",
       "      <td>0.1577</td>\n",
       "      <td>23.7</td>\n",
       "      <td>12:30:00</td>\n",
       "      <td>2023-10-12</td>\n",
       "      <td>Geotextil</td>\n",
       "    </tr>\n",
       "    <tr>\n",
       "      <th>10</th>\n",
       "      <td>0.1495</td>\n",
       "      <td>23.2</td>\n",
       "      <td>12:50:00</td>\n",
       "      <td>2023-10-17</td>\n",
       "      <td>Geotextil</td>\n",
       "    </tr>\n",
       "    <tr>\n",
       "      <th>11</th>\n",
       "      <td>0.1463</td>\n",
       "      <td>24.1</td>\n",
       "      <td>17:30:00</td>\n",
       "      <td>2023-10-19</td>\n",
       "      <td>Geotextil</td>\n",
       "    </tr>\n",
       "    <tr>\n",
       "      <th>12</th>\n",
       "      <td>0.1418</td>\n",
       "      <td>23.2</td>\n",
       "      <td>17:30:00</td>\n",
       "      <td>2023-10-24</td>\n",
       "      <td>Geotextil</td>\n",
       "    </tr>\n",
       "    <tr>\n",
       "      <th>13</th>\n",
       "      <td>0.1401</td>\n",
       "      <td>23.0</td>\n",
       "      <td>15:15:00</td>\n",
       "      <td>2023-10-26</td>\n",
       "      <td>Geotextil</td>\n",
       "    </tr>\n",
       "  </tbody>\n",
       "</table>\n",
       "</div>"
      ],
      "text/plain": [
       "    Humedad del suelo (VWC)  Temperatura del suelo (°C)      Hora        Dia   \n",
       "0                    0.2300                        25.1  16:00:00 2023-09-25  \\\n",
       "1                    0.2244                        23.0  11:45:00 2023-09-26   \n",
       "2                    0.2110                        24.3  16:05:00 2023-09-28   \n",
       "3                    0.2058                        24.6  16:50:00 2023-09-29   \n",
       "4                    0.2005                        23.1  11:00:00 2023-09-30   \n",
       "5                    0.1825                        24.7  15:00:00 2023-10-03   \n",
       "6                    0.1770                        21.9  11:50:00 2023-10-05   \n",
       "7                    0.1705                        23.0  11:30:00 2023-10-07   \n",
       "8                    0.1625                        23.2  12:30:00 2023-10-10   \n",
       "9                    0.1577                        23.7  12:30:00 2023-10-12   \n",
       "10                   0.1495                        23.2  12:50:00 2023-10-17   \n",
       "11                   0.1463                        24.1  17:30:00 2023-10-19   \n",
       "12                   0.1418                        23.2  17:30:00 2023-10-24   \n",
       "13                   0.1401                        23.0  15:15:00 2023-10-26   \n",
       "\n",
       "       Matera  \n",
       "0   Geotextil  \n",
       "1   Geotextil  \n",
       "2   Geotextil  \n",
       "3   Geotextil  \n",
       "4   Geotextil  \n",
       "5   Geotextil  \n",
       "6   Geotextil  \n",
       "7   Geotextil  \n",
       "8   Geotextil  \n",
       "9   Geotextil  \n",
       "10  Geotextil  \n",
       "11  Geotextil  \n",
       "12  Geotextil  \n",
       "13  Geotextil  "
      ]
     },
     "execution_count": 46,
     "metadata": {},
     "output_type": "execute_result"
    }
   ],
   "source": [
    "dt_geotextil = df[df['Matera'] == 'Geotextil']\n",
    "dt_geotextil.reset_index(drop=True, inplace=True)\n",
    "dt_geotextil"
   ]
  },
  {
   "cell_type": "markdown",
   "metadata": {},
   "source": [
    "### Humedad del suelo matera plástica"
   ]
  },
  {
   "cell_type": "code",
   "execution_count": 47,
   "metadata": {},
   "outputs": [
    {
     "data": {
      "text/html": [
       "<div>\n",
       "<style scoped>\n",
       "    .dataframe tbody tr th:only-of-type {\n",
       "        vertical-align: middle;\n",
       "    }\n",
       "\n",
       "    .dataframe tbody tr th {\n",
       "        vertical-align: top;\n",
       "    }\n",
       "\n",
       "    .dataframe thead th {\n",
       "        text-align: right;\n",
       "    }\n",
       "</style>\n",
       "<table border=\"1\" class=\"dataframe\">\n",
       "  <thead>\n",
       "    <tr style=\"text-align: right;\">\n",
       "      <th></th>\n",
       "      <th>Humedad del suelo (VWC)</th>\n",
       "      <th>Temperatura del suelo (°C)</th>\n",
       "      <th>Hora</th>\n",
       "      <th>Dia</th>\n",
       "      <th>Matera</th>\n",
       "    </tr>\n",
       "  </thead>\n",
       "  <tbody>\n",
       "    <tr>\n",
       "      <th>0</th>\n",
       "      <td>0.2300</td>\n",
       "      <td>28.4</td>\n",
       "      <td>16:00:00</td>\n",
       "      <td>2023-09-25</td>\n",
       "      <td>Plastica</td>\n",
       "    </tr>\n",
       "    <tr>\n",
       "      <th>1</th>\n",
       "      <td>0.2270</td>\n",
       "      <td>24.4</td>\n",
       "      <td>11:45:00</td>\n",
       "      <td>2023-09-26</td>\n",
       "      <td>Plastica</td>\n",
       "    </tr>\n",
       "    <tr>\n",
       "      <th>2</th>\n",
       "      <td>0.2093</td>\n",
       "      <td>26.6</td>\n",
       "      <td>16:05:00</td>\n",
       "      <td>2023-09-28</td>\n",
       "      <td>Plastica</td>\n",
       "    </tr>\n",
       "    <tr>\n",
       "      <th>3</th>\n",
       "      <td>0.2003</td>\n",
       "      <td>27.8</td>\n",
       "      <td>16:50:00</td>\n",
       "      <td>2023-09-29</td>\n",
       "      <td>Plastica</td>\n",
       "    </tr>\n",
       "    <tr>\n",
       "      <th>4</th>\n",
       "      <td>0.1962</td>\n",
       "      <td>24.9</td>\n",
       "      <td>11:00:00</td>\n",
       "      <td>2023-09-30</td>\n",
       "      <td>Plastica</td>\n",
       "    </tr>\n",
       "    <tr>\n",
       "      <th>5</th>\n",
       "      <td>0.1724</td>\n",
       "      <td>26.3</td>\n",
       "      <td>15:00:00</td>\n",
       "      <td>2023-10-03</td>\n",
       "      <td>Plastica</td>\n",
       "    </tr>\n",
       "    <tr>\n",
       "      <th>6</th>\n",
       "      <td>0.1710</td>\n",
       "      <td>23.2</td>\n",
       "      <td>11:50:00</td>\n",
       "      <td>2023-10-05</td>\n",
       "      <td>Plastica</td>\n",
       "    </tr>\n",
       "    <tr>\n",
       "      <th>7</th>\n",
       "      <td>0.1670</td>\n",
       "      <td>24.7</td>\n",
       "      <td>11:30:00</td>\n",
       "      <td>2023-10-07</td>\n",
       "      <td>Plastica</td>\n",
       "    </tr>\n",
       "    <tr>\n",
       "      <th>8</th>\n",
       "      <td>0.1617</td>\n",
       "      <td>24.3</td>\n",
       "      <td>12:30:00</td>\n",
       "      <td>2023-10-10</td>\n",
       "      <td>Plastica</td>\n",
       "    </tr>\n",
       "    <tr>\n",
       "      <th>9</th>\n",
       "      <td>0.1578</td>\n",
       "      <td>25.0</td>\n",
       "      <td>12:30:00</td>\n",
       "      <td>2023-10-12</td>\n",
       "      <td>Plastica</td>\n",
       "    </tr>\n",
       "    <tr>\n",
       "      <th>10</th>\n",
       "      <td>0.1518</td>\n",
       "      <td>24.5</td>\n",
       "      <td>12:50:00</td>\n",
       "      <td>2023-10-17</td>\n",
       "      <td>Plastica</td>\n",
       "    </tr>\n",
       "    <tr>\n",
       "      <th>11</th>\n",
       "      <td>0.1498</td>\n",
       "      <td>26.3</td>\n",
       "      <td>17:30:00</td>\n",
       "      <td>2023-10-19</td>\n",
       "      <td>Plastica</td>\n",
       "    </tr>\n",
       "    <tr>\n",
       "      <th>12</th>\n",
       "      <td>0.1457</td>\n",
       "      <td>24.7</td>\n",
       "      <td>17:30:00</td>\n",
       "      <td>2023-10-24</td>\n",
       "      <td>Plastica</td>\n",
       "    </tr>\n",
       "    <tr>\n",
       "      <th>13</th>\n",
       "      <td>0.1444</td>\n",
       "      <td>24.5</td>\n",
       "      <td>15:15:00</td>\n",
       "      <td>2023-10-26</td>\n",
       "      <td>Plastica</td>\n",
       "    </tr>\n",
       "  </tbody>\n",
       "</table>\n",
       "</div>"
      ],
      "text/plain": [
       "    Humedad del suelo (VWC)  Temperatura del suelo (°C)      Hora        Dia   \n",
       "0                    0.2300                        28.4  16:00:00 2023-09-25  \\\n",
       "1                    0.2270                        24.4  11:45:00 2023-09-26   \n",
       "2                    0.2093                        26.6  16:05:00 2023-09-28   \n",
       "3                    0.2003                        27.8  16:50:00 2023-09-29   \n",
       "4                    0.1962                        24.9  11:00:00 2023-09-30   \n",
       "5                    0.1724                        26.3  15:00:00 2023-10-03   \n",
       "6                    0.1710                        23.2  11:50:00 2023-10-05   \n",
       "7                    0.1670                        24.7  11:30:00 2023-10-07   \n",
       "8                    0.1617                        24.3  12:30:00 2023-10-10   \n",
       "9                    0.1578                        25.0  12:30:00 2023-10-12   \n",
       "10                   0.1518                        24.5  12:50:00 2023-10-17   \n",
       "11                   0.1498                        26.3  17:30:00 2023-10-19   \n",
       "12                   0.1457                        24.7  17:30:00 2023-10-24   \n",
       "13                   0.1444                        24.5  15:15:00 2023-10-26   \n",
       "\n",
       "      Matera  \n",
       "0   Plastica  \n",
       "1   Plastica  \n",
       "2   Plastica  \n",
       "3   Plastica  \n",
       "4   Plastica  \n",
       "5   Plastica  \n",
       "6   Plastica  \n",
       "7   Plastica  \n",
       "8   Plastica  \n",
       "9   Plastica  \n",
       "10  Plastica  \n",
       "11  Plastica  \n",
       "12  Plastica  \n",
       "13  Plastica  "
      ]
     },
     "execution_count": 47,
     "metadata": {},
     "output_type": "execute_result"
    }
   ],
   "source": [
    "dt_plastica = df[df['Matera'] == 'Plastica']\n",
    "dt_plastica.reset_index(drop=True, inplace=True)\n",
    "dt_plastica"
   ]
  },
  {
   "cell_type": "markdown",
   "metadata": {},
   "source": [
    "# Análisis de resultados"
   ]
  },
  {
   "cell_type": "markdown",
   "metadata": {},
   "source": [
    "### Humedad del suelo promedio"
   ]
  },
  {
   "cell_type": "markdown",
   "metadata": {},
   "source": [
    "Geotextil"
   ]
  },
  {
   "cell_type": "code",
   "execution_count": 48,
   "metadata": {},
   "outputs": [
    {
     "data": {
      "text/plain": [
       "0.17854285714285714"
      ]
     },
     "execution_count": 48,
     "metadata": {},
     "output_type": "execute_result"
    }
   ],
   "source": [
    "dt_geotextil['Humedad del suelo (VWC)'].mean()"
   ]
  },
  {
   "cell_type": "markdown",
   "metadata": {},
   "source": [
    "Plástica"
   ]
  },
  {
   "cell_type": "code",
   "execution_count": 49,
   "metadata": {},
   "outputs": [
    {
     "data": {
      "text/plain": [
       "0.1774571428571429"
      ]
     },
     "execution_count": 49,
     "metadata": {},
     "output_type": "execute_result"
    }
   ],
   "source": [
    "dt_plastica['Humedad del suelo (VWC)'].mean()"
   ]
  },
  {
   "cell_type": "markdown",
   "metadata": {},
   "source": [
    "Los dos recipientes obtienen un promedio muy similar."
   ]
  },
  {
   "cell_type": "markdown",
   "metadata": {},
   "source": [
    "### Temperatura del suelo promedio"
   ]
  },
  {
   "cell_type": "markdown",
   "metadata": {},
   "source": [
    "Geotextil"
   ]
  },
  {
   "cell_type": "code",
   "execution_count": 50,
   "metadata": {},
   "outputs": [
    {
     "data": {
      "text/plain": [
       "23.578571428571426"
      ]
     },
     "execution_count": 50,
     "metadata": {},
     "output_type": "execute_result"
    }
   ],
   "source": [
    "dt_geotextil['Temperatura del suelo (°C)'].mean()"
   ]
  },
  {
   "cell_type": "markdown",
   "metadata": {},
   "source": [
    "Plástica"
   ]
  },
  {
   "cell_type": "code",
   "execution_count": 51,
   "metadata": {},
   "outputs": [
    {
     "data": {
      "text/plain": [
       "25.400000000000002"
      ]
     },
     "execution_count": 51,
     "metadata": {},
     "output_type": "execute_result"
    }
   ],
   "source": [
    "dt_plastica['Temperatura del suelo (°C)'].mean()"
   ]
  },
  {
   "cell_type": "markdown",
   "metadata": {},
   "source": [
    "El recipiente plastico tiene en promedio una temperatura del suelo mayor que el recipiente de geotextil."
   ]
  },
  {
   "cell_type": "code",
   "execution_count": 52,
   "metadata": {},
   "outputs": [
    {
     "data": {
      "image/png": "[encoded data removed]",
      "text/plain": [
       "<Figure size 432x288 with 1 Axes>"
      ]
     },
     "metadata": {
      "needs_background": "light"
     },
     "output_type": "display_data"
    }
   ],
   "source": [
    "# Grafico de barras que compara la humedad del suelo entre los dos materiales\n",
    "\n",
    "bar_labels = ['Geotextil', 'Plastica']\n",
    "bar_colors = ['tab:red', 'tab:blue']\n",
    "plt.bar(['Geotextil', 'Plastica'], [dt_geotextil['Humedad del suelo (VWC)'].mean(), dt_plastica['Humedad del suelo (VWC)'].mean()], color= bar_colors)\n",
    "plt.ylabel('Humedad del suelo (VWC)')\n",
    "plt.title('Comparacion de humedad del suelo promedio entre los dos materiales')\n",
    "plt.show()"
   ]
  },
  {
   "cell_type": "code",
   "execution_count": 53,
   "metadata": {},
   "outputs": [
    {
     "data": {
      "image/png": "[encoded data removed]",
      "text/plain": [
       "<Figure size 432x288 with 1 Axes>"
      ]
     },
     "metadata": {
      "needs_background": "light"
     },
     "output_type": "display_data"
    }
   ],
   "source": [
    "bar_labels = ['Geotextil', 'Plastica']\n",
    "bar_colors = ['tab:red', 'tab:blue']\n",
    "plt.bar(['Geotextil', 'Plastica'], [dt_geotextil['Temperatura del suelo (°C)'].mean(), dt_plastica['Temperatura del suelo (°C)'].mean()], color= bar_colors)\n",
    "plt.ylabel('Temperatura del suelo (°C)')\n",
    "plt.title('Comparacion de temperatura del suelo promedio entre los dos materiales')\n",
    "plt.show()"
   ]
  },
  {
   "cell_type": "markdown",
   "metadata": {},
   "source": [
    "## Comportamiento de la humedad del suelo a lo largo de tiempo"
   ]
  },
  {
   "cell_type": "markdown",
   "metadata": {},
   "source": [
    "### Humedad del suelo en geotextil"
   ]
  },
  {
   "cell_type": "code",
   "execution_count": 54,
   "metadata": {},
   "outputs": [
    {
     "data": {
      "image/png": "[encoded data removed]",
      "text/plain": [
       "<Figure size 432x288 with 1 Axes>"
      ]
     },
     "metadata": {
      "needs_background": "light"
     },
     "output_type": "display_data"
    }
   ],
   "source": [
    "plt.plot(dt_geotextil['Dia'], dt_geotextil['Humedad del suelo (VWC)'])\n",
    "plt.xlabel('Día')\n",
    "plt.ylabel('Humedad del suelo (%)')\n",
    "plt.title('Humedad del suelo en el tiempo')\n",
    "plt.xticks(rotation=90)\n",
    "plt.show()\n"
   ]
  },
  {
   "cell_type": "markdown",
   "metadata": {},
   "source": [
    "## Humedad del suelo en plástico"
   ]
  },
  {
   "cell_type": "code",
   "execution_count": 55,
   "metadata": {},
   "outputs": [
    {
     "data": {
      "image/png": "[encoded data removed]",
      "text/plain": [
       "<Figure size 432x288 with 1 Axes>"
      ]
     },
     "metadata": {
      "needs_background": "light"
     },
     "output_type": "display_data"
    }
   ],
   "source": [
    "plt.plot(dt_plastica['Dia'], dt_plastica['Humedad del suelo (VWC)'])\n",
    "plt.xlabel('Día')\n",
    "plt.ylabel('Humedad del suelo (%)')\n",
    "plt.title('Humedad del suelo en el tiempo')\n",
    "plt.xticks(rotation=90)\n",
    "plt.show()"
   ]
  },
  {
   "cell_type": "markdown",
   "metadata": {},
   "source": [
    "Se observa como los primeros días en el recipiente de plástico disminuye más rápido la humedad del suelo, pero luego de 10 días se estabiliza y se mantiene constante. Esto no ocurre con el recipiente de geotextil, en donde la humedad del suelo disminuye de una forma más constante.\n",
    "\n",
    "Si el objetivo es mantener la humedad del suelo en un valor alto la mayoría del tiempo es mejor utilizar el recipiente de geotextil."
   ]
  }
 ],
 "metadata": {
  "kernelspec": {
   "display_name": "Python 3",
   "language": "python",
   "name": "python3"
  },
  "language_info": {
   "codemirror_mode": {
    "name": "ipython",
    "version": 3
   },
   "file_extension": ".py",
   "mimetype": "text/x-python",
   "name": "python",
   "nbconvert_exporter": "python",
   "pygments_lexer": "ipython3",
   "version": "3.9.0"
  }
 },
 "nbformat": 4,
 "nbformat_minor": 2
}
